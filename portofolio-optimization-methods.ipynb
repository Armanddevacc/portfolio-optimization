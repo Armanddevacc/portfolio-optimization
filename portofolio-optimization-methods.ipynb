{
 "cells": [
  {
   "cell_type": "markdown",
   "metadata": {},
   "source": [
    "# Portfolio Optimization & Efficient Frontier\n",
    "\n",
    "## Modern Portfolio Theory\n",
    "\n",
    "Modern portfolio theory also popularly called `Mean-Variance Portfolio Theory (MVP)` is a major breakthrough in finance. It is based on the premise that returns are normally distributed and by looking at mean and variance, we can essentially describe the distribution of end-of-period wealth.\n",
    "\n",
    "The basic idea of this theory is to achieve diversification by constructing a portfolio for a minimal portfolio risk or maximal portfolio returns. Accordingly, the Efficient Frontier is a set of optimal portfolios in the risk-return spectrum, and portfolios located under the Efficient Frontier curve are considered sub-optimal.\n",
    "\n",
    "This means that the portfolios on the frontier offered\n",
    "\n",
    "Highest expected return for a given level of risk\n",
    "\n",
    "Lowest level of risk for a given level of expected returns\n",
    "\n",
    "In essence, the investors' goal should be to select a level of risk that he/she is comfortable with and then find a portfolio that maximizes returns based on the selected risk level."
   ]
  },
  {
   "cell_type": "markdown",
   "metadata": {},
   "source": [
    "## Formulation of an optimisation problem\n",
    "\n",
    "Optimization problems can be defined as \n",
    "$$ \\min\\limits_{x_1,..., x_n} f(x_1,..., x_n) $$\n",
    "\n",
    "subject to\n",
    "\\begin{aligned}\n",
    "g_1(x_1, \\dots, x_n) &=or>or< b_1 \\\\\n",
    "&\\vdots \\\\\n",
    "g_m(x_1, \\dots, x_n) &=or>or< b_m\n",
    "\\end{aligned}\n",
    "\n",
    "F is the Objective Function, then $ x_1, \\dots, x_n $ are the decision variables, finaly the function $ g_1, \\dots, g_n $ are the m constrants, these constraints can be equalities or inequalities\n"
   ]
  },
  {
   "cell_type": "markdown",
   "metadata": {},
   "source": [
    "## Unconstrained optimization\n",
    "\n",
    "In the absence of any constraint, our system looks like:\n",
    "$$ \\min\\limits_{x_1,..., x_n} f(x_1,..., x_n) $$\n",
    "\n",
    "which can be resolved though regular multivariate calculus:\n",
    "\n",
    "- (H1): The gradient of f at x* as to be zero (necessary condition)\n",
    "- (H2): The Hessian of f at x* as to be positive definite (sufficient condition)\n",
    "\n",
    "H1 is used to find the set of potential solution and H2 is used to verify if these solution work\n",
    "\n",
    "We write $\n",
    "\\nabla f(x) = \\begin{bmatrix} \n",
    "\\frac{\\partial f}{\\partial x_1} \\\\ \n",
    "\\frac{\\partial f}{\\partial x_2} \\\\ \n",
    "\\vdots \\\\ \n",
    "\\frac{\\partial f}{\\partial x_n} \n",
    "\\end{bmatrix}\n",
    "$ and $\n",
    "H_f(x) = \\begin{bmatrix} \n",
    "\\frac{\\partial^2 f}{\\partial x_1^2} & \\frac{\\partial^2 f}{\\partial x_1 \\partial x_2} & \\dots & \\frac{\\partial^2 f}{\\partial x_1 \\partial x_n} \\\\ \n",
    "\\frac{\\partial^2 f}{\\partial x_2 \\partial x_1} & \\frac{\\partial^2 f}{\\partial x_2^2} & \\dots & \\frac{\\partial^2 f}{\\partial x_2 \\partial x_n} \\\\ \n",
    "\\vdots & \\vdots & \\ddots & \\vdots \\\\ \n",
    "\\frac{\\partial^2 f}{\\partial x_n \\partial x_1} & \\frac{\\partial^2 f}{\\partial x_n \\partial x_2} & \\dots & \\frac{\\partial^2 f}{\\partial x_n^2} \n",
    "\\end{bmatrix}\n",
    "$\n",
    "\n",
    "M is positive definite if and only if $x^T M x > 0$.\n",
    "\n",
    "\n",
    "\n"
   ]
  },
  {
   "cell_type": "markdown",
   "metadata": {},
   "source": [
    "### Aplication 1 - The mean-variance optimization criterion:\n",
    "\n",
    "#### Mathematical explanation:\n",
    "\n",
    "We are in an economy with n different assets, each characterized by its expected return $\\mu_i$ and expected standard deviation $\\sigma_i$. Moreover all asset can be correlated so we define $\\rho_{ij}$ as the correlation between asset i and j. The proportion of the portfolio invested in asset i is $w_i$\n",
    "\n",
    "thus we have $\\mu = \\begin{bmatrix} \n",
    "\\ \\mu_i\\\\ \n",
    "\\vdots \\\\ \n",
    "\\ \\mu_i \n",
    "\\end{bmatrix}$ and $w = \\begin{bmatrix} \n",
    "\\ w_i\\\\ \n",
    "\\vdots \\\\ \n",
    "\\ w_i \n",
    "\\end{bmatrix}$ and $\n",
    "\\Sigma =\n",
    "\\begin{bmatrix}\n",
    "\\sigma_1^2 & \\rho_{12} \\sigma_1 \\sigma_2 & \\dots & \\rho_{1n} \\sigma_1 \\sigma_n \\\\\n",
    "\\rho_{21} \\sigma_2 \\sigma_1 & \\sigma_2^2 & \\dots & \\rho_{2n} \\sigma_2 \\sigma_n \\\\\n",
    "\\vdots & \\vdots & \\ddots & \\vdots \\\\\n",
    "\\rho_{n1} \\sigma_n \\sigma_1 & \\rho_{n2} \\sigma_n \\sigma_2 & \\dots & \\sigma_n^2\n",
    "\\end{bmatrix}\n",
    "$\n",
    "\n",
    "Therefore, the portfolio return $\\mu_{\\pi} = \\mu^Tw$ and $\\sigma_{\\pi}^2=w^T\\Sigma w$\n",
    "\n",
    "\n",
    "\n",
    "The mean-variance optimization criterion proposed by Markowitz corresponds to finding the asset allocation w that maximizes the exepected return of the portfolio subject to a penalty related to the variance of portfolio returns (thanks to $\\lambda$ with $\\lambda = 1$ being the kelly portfolio):\n",
    "\n",
    "$$\\max\\limits_{w}(\\mu_{\\pi} - \\frac{\\lambda}{2}\\sigma_{\\pi}^2)$$\n",
    "\n",
    "\n",
    "$\\lambda>0$ represent the risk-aversion\n",
    "\n",
    "To solve the mean-variance problem we need to write the equation as an explicit function of w.\n",
    "\n",
    "First, let's write $\\mu_{\\pi}$: \n",
    "We will just add that we consider that we have a risk-free asset (bank account) with a certain constant return r. It thus has a variance of 0 and a correlation to the other risky asset equal to 0. The weight of risk-free asset is defined as:\n",
    "$$w_0=1-w^T\\mathbf{1}$$\n",
    "Thus the expected return of the portfolio is given by:\n",
    "$$\\mu_{\\pi}=w^T\\mu + r(1-w^T\\mathbf{1})$$\n",
    "$\\sigma_{\\pi}$ doesn't change as the risk-free asset has a variance of 0\n",
    "\n",
    "$$\\max\\limits_{w}(\\mu_{\\pi} - \\frac{\\lambda}{2}\\sigma_{\\pi}^2)= \\max\\limits_{w} V(w) =[r + w^T(\\mu - r\\mathbf{1})] - \\frac{\\lambda}{2}w^T\\Sigma w$$\n",
    "\n",
    "\n",
    "Multivariate calculus gives us that \n",
    "$$\\frac{d}{dw} (w^T\\Sigma w) = 2\\Sigma w$$\n",
    "\n",
    "Thus $\\nabla V(w^*) = 0$ gives us this potential solution:\n",
    "\n",
    "$$w^* = \\frac{1}{\\lambda}\\Sigma^{-1}(\\mu - r\\mathbf{1})$$\n",
    "\n",
    "We then have to check the Hessian or:\n",
    "\n",
    "$$H_V(w^*)=-\\lambda\\Sigma<0$$\n",
    "\n",
    "As $\\Sigma is positive definite we can confirm that $w^*$ is a maximum"
   ]
  },
  {
   "cell_type": "markdown",
   "metadata": {},
   "source": [
    "#### Python Explanation:\n",
    "\n",
    "Let's set the weights"
   ]
  },
  {
   "cell_type": "code",
   "execution_count": 28,
   "metadata": {},
   "outputs": [],
   "source": [
    "import numpy as np\n",
    "\n",
    "n_assets = 19 + 1  # 19 stocks + 1 risk-free\n",
    "initial_weights = np.full(n_assets, 1/n_assets)  # Each gets 1/20"
   ]
  },
  {
   "cell_type": "markdown",
   "metadata": {},
   "source": [
    "Now we will retrieve the data of 19 stock:"
   ]
  },
  {
   "cell_type": "code",
   "execution_count": 29,
   "metadata": {},
   "outputs": [],
   "source": [
    "import pandas as pd\n",
    "from quantmod.markets import getData, getTicker\n",
    "\n",
    "# List of 19 stock tickers\n",
    "tickers = [\n",
    "    'AAPL', 'MSFT', 'AMZN', 'GOOGL', 'META',\n",
    "    'TSLA', 'JNJ', 'V', 'WMT',\n",
    "    'JPM', 'PG', 'NVDA', 'DIS', 'MA',\n",
    "    'HD', 'PYPL', 'BAC', 'XOM', 'INTC'\n",
    "]"
   ]
  },
  {
   "cell_type": "code",
   "execution_count": 30,
   "metadata": {},
   "outputs": [],
   "source": [
    "# Dictionary to store results\n",
    "expected_returns = {}\n",
    "returns_data = {}\n"
   ]
  },
  {
   "cell_type": "code",
   "execution_count": 31,
   "metadata": {},
   "outputs": [],
   "source": [
    "# Retrieve data and compute metrics\n",
    "for ticker in tickers:\n",
    "    df = getData(ticker, period='50d')  # Get last month and plus’s  data\n",
    "    df['Return'] = df['Close'].pct_change()  # Compute daily returns\n",
    "        \n",
    "    # Store daily returns for covariance computation\n",
    "    returns_data[ticker] = df['Return'].dropna()\n",
    "\n",
    "    # Compute expected return (mean daily return annualized)\n",
    "    mu = df['Return'].mean() * 252\n",
    "    expected_returns[ticker] = mu\n",
    "    \n",
    "\n",
    "# Convert daily return data into a DataFrame\n",
    "returns_df = pd.DataFrame(returns_data)\n",
    "\n",
    "# Compute the covariance matrix of daily returns\n",
    "cov_matrix = returns_df.cov()  # Daily covariance matrix\n",
    "cov_matrix_annualized = cov_matrix * 252  # Multiply by 252 to get yearly covariance\n"
   ]
  },
  {
   "cell_type": "markdown",
   "metadata": {},
   "source": [
    "Calculate $w^*$:"
   ]
  },
  {
   "cell_type": "code",
   "execution_count": 32,
   "metadata": {},
   "outputs": [],
   "source": [
    "# Define the risk-free rate (example: 3% annually)\n",
    "risk_free_rate = 0.03  \n",
    "\n",
    "# Convert expected returns into NumPy array\n",
    "mu_vector = np.array(list(expected_returns.values()))  # Expected returns vector\n",
    "\n",
    "# Construct 1-vector\n",
    "ones_vector = np.ones(len(mu_vector))\n",
    "\n",
    "# Set risk aversion parameter (lambda)\n",
    "lambda_param = 1  # Set to 1 for Kelly portfolio\n",
    "\n",
    "# Compute inverse of the covariance matrix\n",
    "Sigma_inv = np.linalg.inv(cov_matrix_annualized)  # Compute Σ⁻¹\n",
    "\n",
    "# Compute optimal weights (only for risky assets)\n",
    "w_optimal = (1 / lambda_param) * Sigma_inv @ (mu_vector - risk_free_rate * ones_vector)\n",
    "\n",
    "# Compute weight of the risk-free asset\n",
    "w_risk_free = 1 - np.sum(w_optimal)\n",
    "\n"
   ]
  },
  {
   "cell_type": "markdown",
   "metadata": {},
   "source": [
    "Display weight changes:"
   ]
  },
  {
   "cell_type": "code",
   "execution_count": 33,
   "metadata": {},
   "outputs": [
    {
     "data": {
      "image/png": "[encoded data removed]",
      "text/plain": [
       "<Figure size 1200x600 with 1 Axes>"
      ]
     },
     "metadata": {},
     "output_type": "display_data"
    }
   ],
   "source": [
    "import matplotlib.pyplot as plt\n",
    "\n",
    "\n",
    "\n",
    "# Define initial equal weights (including risk-free asset)\n",
    "equal_weights = np.full(len(w_optimal) + 1, 1 / (len(w_optimal) + 1))  \n",
    "\n",
    "# Create a DataFrame for comparison\n",
    "weights_comparison_df = pd.DataFrame({\n",
    "    \"Asset\": list(expected_returns.keys()) + [\"Risk-Free Asset\"],\n",
    "    \"Initial Equal Weight\": equal_weights,\n",
    "    \"Optimal Weight\": np.append(w_optimal, w_risk_free)\n",
    "})\n",
    "\n",
    "# Create a grouped bar chart\n",
    "fig, ax = plt.subplots(figsize=(12, 6))\n",
    "bar_width = 0.4\n",
    "index = np.arange(len(weights_comparison_df))\n",
    "\n",
    "ax.bar(index - bar_width/2, weights_comparison_df[\"Initial Equal Weight\"], bar_width, label=\"Equal Weights\", alpha=0.7)\n",
    "ax.bar(index + bar_width/2, weights_comparison_df[\"Optimal Weight\"], bar_width, label=\"Optimized Weights\", alpha=0.9)\n",
    "\n",
    "# Formatting the graph\n",
    "ax.set_xlabel(\"Assets\")\n",
    "ax.set_ylabel(\"Weight\")\n",
    "ax.set_title(\"Comparison of Initial vs. Optimized Portfolio Weights\")\n",
    "ax.set_xticks(index)\n",
    "ax.set_xticklabels(weights_comparison_df[\"Asset\"], rotation=90)\n",
    "ax.legend()\n",
    "\n",
    "# Display the plot\n",
    "plt.tight_layout()\n",
    "plt.show()"
   ]
  },
  {
   "cell_type": "markdown",
   "metadata": {},
   "source": [
    "##### Analysis of the Portfolio Weight Change Graph\n",
    "From the bar chart, we can observe the following key takeaways:\n",
    "\n",
    "Optimized Weights Are Highly Uneven:\n",
    "- Some assets have significantly higher allocations (e.g., JNJ, V, MA).\n",
    "- Other assets have negative weights, indicating short positions (e.g., AAPL, PG, Risk-Free Asset).\n",
    "\n",
    "Risk-Free Asset Has a Large Negative Allocation:\n",
    "- This suggests that the optimal portfolio is leveraging (borrowing at the risk-free rate to invest more in stocks).\n"
   ]
  },
  {
   "cell_type": "markdown",
   "metadata": {},
   "source": [
    "## Optimization with Equality Constraints\n",
    "\n",
    "With linear constrainsts, the optimization problem becomes:\n",
    "\n",
    "$$ \\min\\limits_{x_1,..., x_n} f(x_1,..., x_n) $$\n",
    "\n",
    "subject to: \n",
    "\\begin{aligned}\n",
    "g_1(x_1, \\dots, x_n) &= b_1 \\\\\n",
    "&\\vdots \\\\\n",
    "g_m(x_1, \\dots, x_n) &= b_m\n",
    "\\end{aligned}\n",
    "\n",
    "Obviously, Standard Calculus cannot be used to solve our minimization. But we will try to get back to this situation using `Lagrange Method`.\n",
    "\n",
    "We will thus form the Lagrangian function: $L(x,\\lambda)$\n",
    "Using the term previously defined L is our objective function equal to f augmented by the addition of the constraint functions multiplied by a variable (Lagrange multiplier).\n",
    "\n",
    "$$L(x,\\lambda)=f(x) + \\sum_{i=1}^{m} \\lambda_j(g_j(x)-b_j)$$\n",
    "\n",
    "The lagrange function transform a n variable + m constraints problem into an unconstrained optimization with n + m variables $(x_1, \\dots, x_n,\\lambda_1, \\dots, \\lambda_n)$\n",
    "\n",
    "With then repeat the same process on: $$\\min\\limits_{x,\\lambda} L(x,\\lambda)$$"
   ]
  }
 ],
 "metadata": {
  "kernelspec": {
   "display_name": ".venv",
   "language": "python",
   "name": "python3"
  },
  "language_info": {
   "codemirror_mode": {
    "name": "ipython",
    "version": 3
   },
   "file_extension": ".py",
   "mimetype": "text/x-python",
   "name": "python",
   "nbconvert_exporter": "python",
   "pygments_lexer": "ipython3",
   "version": "3.10.16"
  }
 },
 "nbformat": 4,
 "nbformat_minor": 2
}
